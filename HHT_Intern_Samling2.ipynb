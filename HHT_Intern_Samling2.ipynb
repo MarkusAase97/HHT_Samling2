{
 "cells": [
  {
   "cell_type": "markdown",
   "id": "074ebde0-2d56-4157-83a4-9d57f74a6fa8",
   "metadata": {
    "jp-MarkdownHeadingCollapsed": true,
    "tags": []
   },
   "source": [
    "<span style=\"color:#9bb1d4;font-size:30px;font-weight:900\"> HHT internopplæring - Hvordan kjøre Python lokalt </span>  "
   ]
  },
  {
   "cell_type": "markdown",
   "id": "ce3b1def",
   "metadata": {},
   "source": [
    "# Før samlingen\n",
    "Før denne samlingen har dere blitt bedt om å laste ned **Visual Studio Code** (ofte kalt VSCode). Nedlastningslenke finnes [her](https://code.visualstudio.com)!\n",
    "\n",
    "Dette gjør vi for å velge en plattform som fungerer for de fleste. Mange av våre studenter, når de kommer fra videregående, har de vært borte i Jupyter Notebook - og da ofte gjennom VSCode.\n",
    "\n",
    "## Hvorfor vi skal bruke Jupyter Notebook\n",
    "Grunnen til at vi bruker **Jupyter Notebook** i dette intern-kurset er at mange av studentene våre er økonomistudenter som skal lære å skrive kode og analysere data, samtidig som de må forklare og formidle resultatene på en klar og forståelig måte. Jupyter Notebook gir en ideell plattform for dette av flere grunner:\n",
    "\n",
    "1. **Integrering av kode og tekst**: Jupyter Notebook lar oss kombinere **Python-kode** og **tekst** i samme dokument. Dette gjør det lettere å skrive kommentarer, forklare hva koden gjør, og presentere resultatene på en sammenhengende måte. Studentene kan beskrive økonomiske teorier, vise frem modeller og forklare resultater direkte ved siden av koden.\n",
    "\n",
    "2. **Visualisering av data**: I økonomi er det ofte viktig å bruke **grafikk og visualiseringer** for å forklare sammenhenger og presentere data på en lettfattelig måte. Jupyter Notebook lar oss lage interaktive grafer og plotte data enkelt, slik at studentene kan illustrere og analysere økonomiske trender på en visuell måte. Verktøy som **matplotlib**, **seaborn**, og **plotly** kan integreres sømløst for å lage profesjonelle visualiseringer.\n",
    "\n",
    "3. **Interaktivitet**: Jupyter Notebook er interaktivt, noe som betyr at studentene kan eksperimentere med koden, gjøre endringer, og umiddelbart se resultatene. Dette er spesielt nyttig når man jobber med økonometriske modeller eller simuleringer, hvor man kan justere variabler og se hvordan endringer påvirker resultatene i sanntid.\n",
    "\n",
    "4. **Samarbeid og deling**: Jupyter Notebooks gjør det enkelt å dele dokumenter med andre. Når studentene har ferdiggjort en oppgave eller prosjekt, kan de enkelt eksportere notatboken til en fil som kan deles med medstudenter, lærere eller kolleger. Det finnes også muligheter for å kjøre notatbøker på en server, noe som muliggjør samarbeid på tvers av forskjellige enheter.\n",
    "\n",
    "Ved å bruke Jupyter Notebook som et verktøy for både kode og tekst, får studentene en helhetlig tilnærming til økonomisk analyse og formidling. Dette setter dem i stand til å lage dokumenter som er både teknisk robuste og pedagogisk tydelige, noe som er viktig både i akademiske sammenhenger og i arbeidslivet.\n",
    "\n"
   ]
  },
  {
   "cell_type": "markdown",
   "id": "6bb122a7",
   "metadata": {},
   "source": [
    "## Kjøre Python i Jupyter Notebooks lokalt i VSCode  \n",
    "For å kjøre Python-kode lokalt i VSCode, følg disse stegene:\n",
    "\n",
    "1. **Installer nødvendige verktøy**  \n",
    "   - Last ned og installer [VSCode](https://code.visualstudio.com/)  \n",
    "   - Installer [Python](https://www.python.org/downloads/) hvis det ikke allerede er installert. Velg nyeste versjon. \n",
    "      -  Obs, har du Windows - Last ned som administrator og huk av for \"ADD TO PATH\" (eller tilsvarende). \n",
    "   - Åpne VSCode og installer **Python-utvidelsen** fra \"Extensions\" (`Ctrl+Shift+X` → Søk etter \"Python\" → Installer)\n",
    "   - Installer **Jupyter** fra \"Extensions\".\n",
    "\n",
    "2. **Opprett en ipynb-fil**  \n",
    "Når vi \n",
    "   - Åpne VSCode  \n",
    "   - Opprett en ny fil, velg ipynb  → Lagre som `script.ipynb`.\n",
    "   - Da vil det dukke opp en *celle* med et **play** symbol på venstre siden. Dette betyr at du kan skrive kode her. \n",
    "   - Skriv inn enkel kode i en kode-celle, f.eks.:  \n",
    "     ```python\n",
    "     print(\"Hei, verden!\")\n",
    "     ```\n",
    "\n",
    "3. **Kjøre Python-koden i Jupyter Notebook**  \n",
    "   - Når du har trykket på cellen med koden \n",
    "   ```python\n",
    "     print(\"Hei, verden!\")\n",
    "     ```\n",
    "     trykk 'SHIFT + ENTER' (da *kjører* du koden)\n",
    "   - Da vil det komme opp at du må velge en *kernel* - da må du velge en kernel. [Fyll inn her, Markus]\n",
    "\n",
    "4. **Skriv tekst/analyse i Jupyter Notebook**\n",
    "   - For å skrive tekst i Jupyter Notebook, må du holde over din forrige celle. Da får du to alternativ 'Kode' og 'Markdown' - velg 'Markdown'.\n",
    "   - Nå kan du skrive tekst som du vil. F.eks.\n",
    "   ```python\n",
    "      Hei, på deg!\n",
    "   ```\n",
    "   - Eller så kan du skrive matematisk tekst, som:\n",
    "   ```python\n",
    "      $f(x)=2x^2$\n",
    "   ```\n",
    "   og etter du trykker på 'SHIFT + ENTER' vil det se slik ut: $f(x)=2x^2$. \n",
    "   \n",
    "   Du kan altså skrive matematisk notasjon på en flott og ryddig måte, og mye bedre enn i Word!\n",
    "\n",
    "\n",
    "Hurra! \n",
    "\n",
    "### 🚀 Nå er du klar til å bruke VSCode og Jupyter Notebook til å kjøre Python lokalt, for deg selv og studentene dine! 🚀"
   ]
  },
  {
   "cell_type": "markdown",
   "id": "1f8d5ea1",
   "metadata": {},
   "source": [
    "## En ting til!\n",
    "Som dere sikkert har sett i *Opplæringsstiene* så bruker vi *pakker* i Python. F.eks. `NumPy` (som forøvrig står for *numerical Python*).\n",
    "\n",
    "De tar vi f.eks. i bruk på følgende måte:\n",
    "```python\n",
    "import numpy as np\n",
    "\n",
    "a = np.pi\n",
    "print(f'Verdien av pi er: {a}')\n",
    "```\n",
    "\n",
    "### Installering av pakker i VSCode\n",
    "Til nå, når dere har kjørt code i Codecademy, så kan dere bare skrive `import numpy as np`, og pakken kan brukes. **Men**, når vi nå kjører koden lokalt må vi installere pakken. Det kan gjøres på **to forskjellige måter**.\n",
    "\n",
    "1. **Via terminalen i VSCode**\n",
    "- Åpne *Terminal*, ved å se øverst på skjermen, trykk på **Terminal** og deretter **New Terminal**.\n",
    "- Da åpner det seg en terminal nederst på skjermen hvor det står noe som\n",
    "```python\n",
    "(base) maaas6121@uit-mac-xxxx ~ % \n",
    "```\n",
    "Til høyre for \"%\" tegnet, kan dere skrive `pip install numpy`, og **Voilà** - pakken `numpy` er installert.\n",
    "\n",
    "2. **Laste ned pakker direkte i Jupyter Notebook**\n",
    "Det er også mulig å laste ned pakker utenom terminalen. Så hvis dere har en Jupyter Notebook fil (ipynb), som denne filen, så kan dere:\n",
    "- Åpne en ny kode-blokk i Notebook'en.\n",
    "- Skriv\n",
    "```python\n",
    "!pip install numpy\n",
    "```\n",
    "og **Voilà** - pakken `numpy` er installert. **Obs:** Legg merke til \"!\" før `pip install numpy`, dette sier bare: *gjør dette i terminalen, uten å åpne terminalen.*\n",
    "\n",
    "**Obs:** Hvis steg 1 eller 2 ikke fungerer, gjør det som står nedenfor her først!"
   ]
  },
  {
   "cell_type": "markdown",
   "id": "92f44802",
   "metadata": {},
   "source": [
    "## 💡 `pip` – og hvorfor det er viktig! (Mac)\n",
    "\n",
    "I dette kurset kommer vi til å bruke kommandoen `!pip install XXX` – hvor `XXX` er et Python-bibliotek.\n",
    "\n",
    "Biblioteker er \"verktøykasser\" i Python som gjør det enkelt å utføre ulike oppgaver, for eksempel:\n",
    "- Lage grafer\n",
    "- Jobbe med data\n",
    "- Bruke kunstig intelligens\n",
    "\n",
    "For at dette skal fungere, må du ha **`pip`** installert på Mac-en din.\n",
    "\n",
    "Det kan dere gjøre - ved å *kjøre* de to neste kodeblokkene under her. Det kan dere enkelt gjøre ved å trykke ```SHIFT``` + ```ENTER``` når dere har trykke på cellen!"
   ]
  },
  {
   "cell_type": "code",
   "execution_count": null,
   "id": "3186f5ee",
   "metadata": {},
   "outputs": [],
   "source": [
    "!curl https://bootstrap.pypa.io/get-pip.py -o get-pip.py"
   ]
  },
  {
   "cell_type": "code",
   "execution_count": null,
   "id": "13395eba",
   "metadata": {},
   "outputs": [],
   "source": [
    "!python -m ensurepip --upgrade"
   ]
  },
  {
   "cell_type": "markdown",
   "id": "99f705af",
   "metadata": {},
   "source": [
    "## 🧠 Hvorfor bruker man `!`?\n",
    "Fordi Jupyter Notebook vanligvis tolker celler som Python-kode. Når du skriver `!`, forteller du Jupyter:\n",
    "\n",
    "\"Denne linja skal ikke tolkes som Python – kjør den i et shell/terminal i stedet.\""
   ]
  },
  {
   "cell_type": "markdown",
   "id": "b0ab8996",
   "metadata": {},
   "source": [
    "## Hvis det over ikke fungerte, prøv én av to:\n",
    " #### **1. Manuelt - i terminalen**\n",
    "* Gå til https://github.com/MarkusAase97/HHT_Samling2/tree/main/data - og trykk inn på `get-pip.py`\n",
    "* Last ned, og lagre som \"get-pip.py\" under \"Nedlastninger.\n",
    "* Skriv `cd Downloads` i terminal.\n",
    "* Skriv `python get-pip.py` i terminal.\n",
    "\n",
    "\n",
    "#### **2. Bare terminal**\n",
    "* Kjør først følgende i terminalen \n",
    "```terminal\n",
    "curl https://bootstrap.pypa.io/get-pip.py -o get-pip.py\n",
    "```\n",
    "* Så, kjør følgende:\n",
    "```terminal\n",
    "python get-pip.py\n",
    "```\n",
    "\n",
    "💬 **Tips:** Hvis du får feilmelding, prøv `python3` i stedet for `python` –  På nyere Mac-er er det ofte `python3` som er den korrekte kommandoen.\n",
    "___________"
   ]
  },
  {
   "cell_type": "markdown",
   "id": "ba7aaee7",
   "metadata": {},
   "source": [
    "## 💡 ```pip``` - og hvorfor det er viktig! (Windows)\n",
    "I dette kurset kommer vi til å bruke kommandoen `!pip install XXX` – hvor `XXX` er et Python-bibliotek.\n",
    "\n",
    "Biblioteker er \"verktøykasser\" i Python som gjør det enkelt å utføre ulike oppgaver, for eksempel:\n",
    "- Lage grafer\n",
    "- Jobbe med data\n",
    "- Bruke kunstig intelligens\n",
    "\n",
    "For at dette skal fungere, må du ha **`pip`** installert på Windows-en din.\n",
    "\n",
    "Prøv først å kjøre:\n",
    "```python\n",
    "!pip install pandas\n",
    "```\n",
    "Hvis det ikke fungerer, så kan dere gjøre ved å følge oppskriften under:\n",
    "\n",
    "#### 1. Åpne terminal/kommandovinduet på Windows, og skriv:\n",
    "```terminal\n",
    "python --version\n",
    "```\n",
    "#### 2. Skriv\n",
    "```\n",
    "pip --version\n",
    "```\n",
    "Da vil dere mest sannsynlig få noe som *'pip' is not recognized as an internal or external command, ....*\n",
    "\n",
    "#### 3 . Gå til denne [lenken](https://github.com/MarkusAase97/HHT_Samling2/blob/main/data/get-pip.py) - og last ned i *Downloads* folderen din. Så åpne terminal og skriv:\n",
    "```terminal\n",
    "cd downloads\n",
    "```\n",
    "#### 4. Kjør dette i terminalen\n",
    "```terminal\n",
    "python get-pip.py\n",
    "```\n",
    "Her vil det stå litt forskjellig output, og noe som: \n",
    "\n",
    "**WARNING: The scripts pip.exe, pip3.12.exe ... are installed in `'C:\\Users\\ditt_navn\\AppData\\Roaming\\Python\\Python313\\xxxx'` which is not on PATH.**\n",
    "\n",
    "#### 5. Kopier hele den filbanen over, ala denne: `'C:\\Python313\\xxxx'`\n",
    "\n",
    "#### 6. Så gå til søkefeltet på din Windows PC (under Hjem/Explorer), og kopier inn filbanen fra punkt 5. Se at det ligger Python filer her, gjør det ikke det, gå tilbake.\n",
    "#### 7. søk `\"Edit the system environment variables\"` (eller tilsvarende på norsk: *Rediger miljøvariabler for kontoen din*).\n",
    "#### 7. Klikk på `\"Environment variables...\"`\n",
    "#### 8. Under `\"Brukervariabler for ditt_navn\"` velg `PATH` og deretter på `Rediger`.\n",
    "#### 9. Trykk på \"New\" og legg til stien du lagret, ala `'C:\\Python313\\xxxx'` fra steg 5.\n",
    "#### 10. Trykk \"Ok\" på alle vinduer, og lukk terminalen din.\n",
    "#### 11. Åpne terminal på ny, og skriv\n",
    "```terminal\n",
    "pip --version\n",
    "```\n",
    "og nå skal det fungere, uten feilmeldinger!! Prøv `pip` i VSCode som beskrevet lenger oppe i dokumentet.\n",
    "\n",
    "## **OBS: Har du flere versjoner av Python, kan det by på problemer - men det ordner vi!**"
   ]
  },
  {
   "cell_type": "markdown",
   "id": "27338d95",
   "metadata": {},
   "source": [
    "# Eksempel"
   ]
  },
  {
   "cell_type": "code",
   "execution_count": null,
   "id": "46d2f24b",
   "metadata": {},
   "outputs": [],
   "source": [
    "!pip install pandas"
   ]
  },
  {
   "cell_type": "code",
   "execution_count": null,
   "id": "c97233af",
   "metadata": {},
   "outputs": [],
   "source": [
    "import pandas as pd\n",
    "import matplotlib.pyplot as plt\n",
    "import numpy as np"
   ]
  },
  {
   "cell_type": "code",
   "execution_count": null,
   "id": "bdea7409",
   "metadata": {},
   "outputs": [],
   "source": [
    "df = pd.read_csv(\"bilparken_ssb.csv\")\n",
    "\n",
    "# Sorterer dataframe'n basert på variabelen \"Personbiler vraket mot pant (prosent av bestanden)\"\n",
    "df = df.sort_values(\"Gjennomsnittsalder ved vraking (år)\", ascending = True)\n",
    "df.head()"
   ]
  },
  {
   "cell_type": "code",
   "execution_count": null,
   "id": "b9461227",
   "metadata": {},
   "outputs": [],
   "source": [
    "# Bar-plot som viser bilmerker, og % av bestand som er vraket mot pant.\n",
    "barplot = df.plot.bar('Bilmerker', 'Personbiler vraket mot pant (prosent av bestanden)')\n",
    "\n",
    "# Her setter vi hva y-aksen skal \"hete\".\n",
    "barplot.set_ylabel('Prosent av bilbestand')\n",
    "\n",
    "# Viser plottet.\n",
    "plt.show()"
   ]
  },
  {
   "cell_type": "code",
   "execution_count": null,
   "id": "fdbb36b2",
   "metadata": {},
   "outputs": [],
   "source": [
    "plt.figure(figsize=(12, 8))\n",
    "plt.barh(df['Bilmerker'], df['Gjennomsnittsalder ved vraking (år)'])\n",
    "plt.xlabel('Gjennomsnittsalder ved vraking (år)')\n",
    "plt.ylabel('Bilmerker')\n",
    "plt.title('Gjennomsnittsalder ved vraking (år) for forskjellige bilmerker')\n",
    "plt.show()"
   ]
  },
  {
   "cell_type": "code",
   "execution_count": null,
   "id": "11d0399e",
   "metadata": {},
   "outputs": [],
   "source": [
    "import plotly.express as px\n",
    "\n",
    "fig = px.bar(\n",
    "    df,\n",
    "    x='Gjennomsnittsalder ved vraking (år)',\n",
    "    y='Bilmerker',\n",
    "    orientation='h',\n",
    "    title='Gjennomsnittsalder ved vraking (år) for forskjellige bilmerker',\n",
    "    labels={\n",
    "        'Gjennomsnittsalder ved vraking (år)': 'Gjennomsnittsalder ved vraking (år)',\n",
    "        'Bilmerker': 'Bilmerker'\n",
    "    },\n",
    "    width=800,\n",
    "    height=600\n",
    ")\n",
    "\n",
    "fig.update_layout(\n",
    "    yaxis=dict(autorange=True), \n",
    "    margin=dict(l=100, r=20, t=50, b=50)\n",
    ")\n",
    "\n",
    "fig.show()"
   ]
  },
  {
   "cell_type": "code",
   "execution_count": null,
   "id": "27adaac4",
   "metadata": {},
   "outputs": [],
   "source": [
    "# Filtering av DataFrame for å få radene hvor Bilmerker er 'Tesla', 'BMI i' (BMW sin el-bil), 'Tesla Motors'.\n",
    "tesla_data = df[df['Bilmerker'] == 'Tesla']\n",
    "bmw_i_data = df[df['Bilmerker'] == \"Bmw i\"]\n",
    "teslamotors_data = df[df['Bilmerker'] == \"Tesla Motors\"]\n",
    "\n",
    "# Aksessere 'Gjennomsnittsalder ved vraking (år)' kolonnen for Tesla og Bmw I\n",
    "tesla_gjennomsnittsalder = tesla_data['Gjennomsnittsalder ved vraking (år)'].values[0]\n",
    "bmw_i_gjennomsnittsalder = bmw_i_data['Gjennomsnittsalder ved vraking (år)'].values[0]\n",
    "teslamotors_gjennomsnittsalder = teslamotors_data['Gjennomsnittsalder ved vraking (år)'].values[0]\n",
    "\n",
    "print(f'Gjennomsnittlig alder ved vraking på Tesla er {tesla_gjennomsnittsalder} år! Det er lavt!')\n",
    "print(f'Gjennomsnittlig alder ved vraking  på Bmw I er {bmw_i_gjennomsnittsalder} år! Det er lavt!')\n",
    "print(f'Gjennomsnittlig alder ved vraking på Tesla Motors er {teslamotors_gjennomsnittsalder} år! Det er lavt!')"
   ]
  },
  {
   "cell_type": "markdown",
   "id": "96b03630",
   "metadata": {},
   "source": [
    "# Oppgaver 🚀\n",
    "Her vil dere få en del oppgaver som vil utfordrere dere på en del nødvendige ferdigheter i VSCode."
   ]
  },
  {
   "cell_type": "markdown",
   "id": "e010902f",
   "metadata": {},
   "source": [
    "## Oppgave 1 - Laste inn pakker\n",
    "Ofte vil vi har bruk for en haug med pakker. \n",
    "\n",
    "* Last ned `pandas` gjennom kodeblokk i Jupyter, og via terminal.\n",
    "* Importer biblioteket `pandas as pd` ved hjelp av kodeblokk i Jupyter."
   ]
  },
  {
   "cell_type": "code",
   "execution_count": null,
   "id": "9e7380c5",
   "metadata": {},
   "outputs": [],
   "source": []
  },
  {
   "cell_type": "markdown",
   "id": "27e4f480",
   "metadata": {},
   "source": [
    "## Oppgave 2 - Laste inn datasett\n",
    "Vi skal se på et datasett: [`schooling-gdp.csv`](https://github.com/uit-bed-1304-h25/uit-bed-1304-h25.github.io/blob/main/data/schooling-gdp.csv). Oppe i høyre hjørnet på lenka finner dere en \"ned-pil\" for Download.\n",
    "\n",
    "### Oppgave 2.1\n",
    "Last ned datasettet (som nevnt over) manuelt ved å følge lenken, plasser filen et fornuftig sted på din PC/Mac.\n",
    "\n",
    "### Oppgave 2.2\n",
    "Last inn datasettet som en Pandas dataframe. Den kaller vi ofte bare for `df` (for dataframe)."
   ]
  },
  {
   "cell_type": "code",
   "execution_count": null,
   "id": "c6857b4f",
   "metadata": {},
   "outputs": [],
   "source": [
    "# Din kode her"
   ]
  },
  {
   "cell_type": "markdown",
   "id": "a3860aac",
   "metadata": {},
   "source": [
    "### Oppgave 2.3\n",
    "Bruk funksjonene `df.info()`, `df.describe()` og `df.head()` til å finne informasjon av dataframe'n.\n",
    "\n",
    "Lag så en tabell (i Markdown) som sier noe om informasjonen her."
   ]
  },
  {
   "cell_type": "code",
   "execution_count": null,
   "id": "0eeb672d",
   "metadata": {},
   "outputs": [],
   "source": []
  },
  {
   "cell_type": "markdown",
   "id": "58a435e2",
   "metadata": {},
   "source": [
    "## Oppgave 3 - Plotte datasett\n",
    "Vi bruker det datasettet dere lastet inn i forrige oppgave.\n",
    "\n",
    "\n",
    "### Oppgave 3.1\n",
    "Lag et scatter plott som har `Utdanning` på x-aksen og `BNP_per_capita` på y-aksen."
   ]
  },
  {
   "cell_type": "code",
   "execution_count": null,
   "id": "cf166eeb",
   "metadata": {},
   "outputs": [],
   "source": []
  },
  {
   "cell_type": "markdown",
   "id": "39d91077",
   "metadata": {},
   "source": [
    "### Oppgave 3.2\n",
    "Bruk samme kode som du lagde i oppgave 3.1, men punktene (scatter) skal vise bobler som viser befolkningstallet. Liten boble = få innbyggere og vice versa.\n",
    "\n",
    "Tips:\n",
    "```python\n",
    "plt.scatter(df['Utdanning'], df['BNP_per_capita'], s=df['Befolkning'] / 1000000, alpha=0.5)\n",
    "```\n",
    "\n",
    "Lek med ulik verdi for `s`. Hvorfor deler vi på $1000000$? Hva gjør `alpha`?"
   ]
  },
  {
   "cell_type": "code",
   "execution_count": null,
   "id": "7bd8394b",
   "metadata": {},
   "outputs": [],
   "source": []
  },
  {
   "cell_type": "markdown",
   "id": "05d090de",
   "metadata": {},
   "source": [
    "## Oppgave 4 - Hente ut statistikk fra datasett\n",
    "I denne oppgaven skal vi hente ut litt statistikk fra datasettet. I opplæringsstiene har dere vært borte i både **lister** og **ditionaries**.\n",
    "\n",
    "### Oppgave 4.1 \n",
    "Vi starter med lister, lag en liste som heter `liste_maks` består av følgende:\n",
    "* Navnet på det landet med høyest BNP per innbygger.\n",
    "* Verdien for BNP per innbygger\n",
    "* Utdanningsnivået for det landet.\n",
    "* Befolkningstallet for det landet."
   ]
  },
  {
   "cell_type": "code",
   "execution_count": null,
   "id": "e2ef654a",
   "metadata": {},
   "outputs": [],
   "source": []
  },
  {
   "cell_type": "markdown",
   "id": "757dd5ea",
   "metadata": {},
   "source": [
    "### Oppgave 4.2\n",
    "Snakk sammen med den du sitter med. Er liste det beste alternativet her? Hvordan løser dere dette ved hjelp av dictionaries?\n",
    "\n",
    "Lag en dictionary, med samme informasjon. Hvilke løsning egner seg best her?"
   ]
  },
  {
   "cell_type": "code",
   "execution_count": null,
   "id": "81c4b612",
   "metadata": {},
   "outputs": [],
   "source": []
  },
  {
   "cell_type": "markdown",
   "id": "81c92736",
   "metadata": {},
   "source": [
    "### Oppgave 4.3\n",
    "Lag deres egen funksjon, som lager en **enten** en dictionary eller en liste, som gir ut en dictionary/liste for det landet med høyest BNP *eller* lavest BNP. \n",
    "\n",
    "Finn ut hvilke parametere dere trenger i funksjonen deres."
   ]
  },
  {
   "cell_type": "code",
   "execution_count": null,
   "id": "e2c2d3b4",
   "metadata": {},
   "outputs": [],
   "source": []
  },
  {
   "cell_type": "code",
   "execution_count": null,
   "id": "0a6dbb37",
   "metadata": {},
   "outputs": [],
   "source": []
  },
  {
   "cell_type": "markdown",
   "id": "af37e609",
   "metadata": {},
   "source": [
    "## Oppgave 5 - Sortere og 'cleane' datasett, og bruke transformasjoner\n",
    "I mange sammenhenger jobber dere og/eller studentene deres med datasett.\n",
    "\n",
    "På GitHub repositorie til dette internkurset (trykk [her](https://github.com/MarkusAase97/HHT_Samling2/tree/main/data)), finner dere følgende datasett:\n",
    "* `schooling-gdp.csv` (allerede brukt i tidligere oppgaver)\n",
    "* `Median_totalpris_boliger_Oslo.csv` (hentet fra SSB)\n",
    "* `Inntekt_data.xlsx` (hentet fra SSB)\n",
    "* `bilparken_ssb.csv` (hentet fra SSB, allerede brukt i tidligere oppgaver)\n",
    "\n",
    "For å kunne bruke data, må det ofte være på de formatene vi ønsker. Denne oppgaven er derfor ganske fritt:\n",
    "* Velg et datasett vi ikke har brukt enda.\n",
    "* Bruk det dere har lært om `pandas`, `matplotlib` og andre bibliotek for å se på dataene og strukturer det til en dataframe dere kan bruke til noe.\n",
    "\n",
    "### Tips: Velg `Inntekt_data.xslx` for en liten utfordring. "
   ]
  },
  {
   "cell_type": "markdown",
   "id": "076a6e13",
   "metadata": {},
   "source": [
    "## Oppgave 6 - Lineær regresjon\n",
    "Statistikk burde være obligatorisk pensum i alle utdanninger, og heldigvis for oss, må økonomistudenter ha det. Det krever også at vi kan litt.\n",
    "\n",
    "Under er et eksempel på lineær regresjon på datasettet `schooling-gdp.csv`. \n",
    "\n",
    "* Gå igjennom koden, og kommenter den til en veldokumentert kode. \n",
    "* Prøv å plot dette ved hjelp av `plotly`."
   ]
  },
  {
   "cell_type": "code",
   "execution_count": null,
   "id": "da844911",
   "metadata": {},
   "outputs": [],
   "source": [
    "import pandas as pd\n",
    "import matplotlib.pyplot as plt\n",
    "import seaborn as sns\n",
    "from sklearn.linear_model import LinearRegression\n",
    "from sklearn.metrics import r2_score\n",
    "\n",
    "# \n",
    "df = pd.read_csv(\"schooling-gdp.csv\")\n",
    "\n",
    "# \n",
    "X = df[['Utdanning']]  # \n",
    "y = df['BNP_per_capita']  # \n",
    "\n",
    "# \n",
    "model = LinearRegression()\n",
    "model.fit(X, y)\n",
    "\n",
    "# \n",
    "y_pred = model.predict(X)\n",
    "r2 = r2_score(y, y_pred)\n",
    "\n",
    "# \n",
    "plt.figure(figsize=(10, 6))\n",
    "sns.scatterplot(x=df['Utdanning'], y=df['BNP_per_capita'], label='Data', color='orange')\n",
    "plt.plot(df['Utdanning'], y_pred, color='red', label='Lineær regresjon')\n",
    "plt.xlabel('Utdanning (år)')\n",
    "plt.ylabel('BNP per capita (USD)')\n",
    "plt.title(f'Lineær Regresjon: BNP per capita vs. Utdanning\\n$R^2$ = {r2:.2f}')\n",
    "plt.legend()\n",
    "plt.grid(True)\n",
    "plt.tight_layout()\n",
    "plt.show()"
   ]
  },
  {
   "cell_type": "markdown",
   "id": "051afe32",
   "metadata": {},
   "source": [
    "## Oppgave 7 - Simulering"
   ]
  },
  {
   "cell_type": "markdown",
   "id": "3580c5da",
   "metadata": {},
   "source": [
    "# Monte Carlo-simulering 🖥️ 🎲 📊\n",
    "\n",
    "Monte Carlo-simulering er en metode for å estimere resultater ved hjelp av tilfeldige utvalg.  \n",
    "Denne teknikken er spesielt nyttig når det er **usikkerhet** i dataene eller **mange mulige utfall**. Noe økonomi-verden er fullt av! :D \n",
    "\n",
    "### 🔹 Hvorfor bruke Monte Carlo-simulering?  \n",
    "- Mange økonomiske prosesser, som **investeringer og lønnsvekst**, er usikre.  \n",
    "- Deterministiske modeller fanger **ikke opp tilfeldigheter**, noe Monte Carlo-simulering gjør.  \n",
    "- Vi kan bruke denne teknikken for å lage **sannsynlighetsfordelinger** og forutsi mulige utfall.  \n",
    "\n",
    "I dette eksempelet ser vi på **inntektsutvikling** over tid, hvor inntekten hvert år avhenger av fjoråret.  \n",
    "- **Vi starter med en gitt inntekt** og antar en årlig vekstrate (én prosent).  \n",
    "- **Hvert år legges en tilfeldig variasjon til**, som representerer usikkerhet.  \n",
    "- Vi kjører simuleringen mange ganger for å se hvordan inntekten utvikler seg over tid.  \n",
    "\n",
    "Vi starter med å definere en funksjon som beregner neste års inntekt, basert på fjoråret og et tilfeldig bidrag: \n",
    "\n",
    "#### **Deres oppgave her er å gå igjennom eksemplene under, og kommentere koden - slik at den blir godt dokumentert**\n",
    "##### Et viktig poeng. Vi er undervisere på HHT, og det har også noen krav. AI, CoPilot, ChatGPT og alle disse verktøyene er gode, flotte og fantastiske. Det er utrolig tidsbesparende, men likevel må vi passe på også. AI kan hallusinere, og finne på ting - ref. Tromsø Kommune! Derfor anbefaler jeg å få prøvd seg på å finne ut hva koden gjør, uten ChatGPT. I eksempelet under er f.eks. kodelinja `random_growth = np.random.normal(0, volatility)`. Prøv å Google \"np.random.normal()\"!"
   ]
  },
  {
   "cell_type": "markdown",
   "id": "76857f25",
   "metadata": {},
   "source": [
    "## **Eksempel**"
   ]
  },
  {
   "cell_type": "code",
   "execution_count": null,
   "id": "8bd1877c",
   "metadata": {},
   "outputs": [],
   "source": [
    "import numpy as np\n",
    "\n",
    "def calc_income(last_year_income, growth_rate, volatility):\n",
    "    \n",
    "    random_growth = np.random.normal(0, volatility)\n",
    "    growth =  growth_rate + random_growth\n",
    "    \n",
    "    income = round(last_year_income * (1 + growth))\n",
    "    \n",
    "    return income\n",
    "\n",
    "\n",
    "print(f'Hvis fjorårets lønn er 600.000 kr, så er årets lønn {calc_income(600000, 0.05, 0.02)} kr, hvis vi har 5% forventet lønnsøkning og 2% usikkerhet.')\n",
    "print(f'Hvis fjorårets lønn er 800.000 kr, så er årets lønn {calc_income(800000, 0.05, 0.02)} kr, hvis vi har 5% forventet lønnsøkning og 2% usikkerhet.')"
   ]
  },
  {
   "cell_type": "markdown",
   "id": "4a733ec8",
   "metadata": {},
   "source": [
    "#### **Så lager vi en funksjon som lager en \"inntektssti\" (income path) for et gitt antall års inntekt. Dette kalles en \"sti\"/\"path\" fordi dagens inntekt er avhengig av gårsdagen. Dagens situasjon er altså avhengig av hvilken sti inntekten har fulgt i alle tidligere år.**"
   ]
  },
  {
   "cell_type": "code",
   "execution_count": null,
   "id": "b76a01f4",
   "metadata": {},
   "outputs": [],
   "source": [
    "def income_path(years, initial_income, growth_rate, volatility):\n",
    "    \n",
    "    incomes = [initial_income]\n",
    "    \n",
    "    for year in range(years-1):\n",
    "\n",
    "        income = calc_income(incomes[-1], growth_rate, volatility)\n",
    "\n",
    "        incomes.append(income)\n",
    "        \n",
    "    return incomes\n",
    "\n",
    "income_path(5,600000, 0.05, 0.02)"
   ]
  },
  {
   "cell_type": "markdown",
   "id": "88da4128",
   "metadata": {},
   "source": [
    "#### **Vi kan nå lage en funksjon som simulerer et gitt antall inntektsstier gitt ved `num_simulations`:**"
   ]
  },
  {
   "cell_type": "code",
   "execution_count": null,
   "id": "5968cf98",
   "metadata": {},
   "outputs": [],
   "source": [
    "import pandas as pd\n",
    "\n",
    "def simulate_income(years, initial_income, growth_rate, volatility, num_simulations):\n",
    "\n",
    "    all_incomes = []\n",
    "    for _ in range(num_simulations):\n",
    "\n",
    "        incomes = income_path(years, initial_income, growth_rate, volatility)\n",
    "        all_incomes.append(incomes)\n",
    "    plt.figure(figsize=(10, 5))\n",
    "        \n",
    "    return np.array(all_incomes)\n",
    "\n",
    "\n",
    "pd.DataFrame(simulate_income(5, 600000, 0.05, 0.02, 5))"
   ]
  },
  {
   "cell_type": "markdown",
   "id": "48d346f6",
   "metadata": {},
   "source": [
    "#### **Vi kan nå plotte fordelingen, for å få et inntrykk av fordelingen til inntekten i avslutningsåret:**"
   ]
  },
  {
   "cell_type": "code",
   "execution_count": null,
   "id": "236abe60",
   "metadata": {},
   "outputs": [],
   "source": [
    "import matplotlib.pyplot as plt\n",
    "\n",
    "# Parametere\n",
    "initial_income = 600000   # Start-inntekt\n",
    "growth_rate = 0.03        # Forventet lønnsvekst (prosent)\n",
    "volatility = 0.02         # Volatilitet (usikkerhet)\n",
    "years = 30                # Antall år\n",
    "num_simulations = 1000    # Antall simuleringer\n",
    "\n",
    "simulated_incomes = simulate_income(years, initial_income, growth_rate, volatility, num_simulations)\n",
    "\n",
    "final_year_incomes = simulated_incomes[:, -1]\n",
    "\n",
    "plt.hist(final_year_incomes, bins=50, edgecolor='black', alpha=0.75)\n",
    "plt.gca().get_xaxis().set_major_formatter(plt.FuncFormatter(lambda x, loc: \"{:,}\".format(int(x))))\n",
    "plt.xticks(rotation=90)\n",
    "plt.title(\"Distribusjon av simulerte inntekter etter 30 år\")\n",
    "plt.xlabel(\"Inntekt\")\n",
    "plt.ylabel(\"Antall simuleringer\")\n",
    "plt.show()"
   ]
  },
  {
   "cell_type": "markdown",
   "id": "468697b1",
   "metadata": {},
   "source": [
    "### **Ekstra visualisering: Plotte flere inntektsstier**\n",
    "Eksempel 18 (rett over), viser distribusjon (fordelingen) av simulerte inntekter etter $30$ år - hvor startinntekten var på $600 \\; 000$ kr.\n",
    "\n",
    "For å vise hvordan ulike simuleringer utvikler seg over tid, kan vi legge til en graf som viser hvordan inntektsbanene utviklet seg.\n",
    "\n",
    "Eksempel 19:"
   ]
  },
  {
   "cell_type": "code",
   "execution_count": null,
   "id": "d3c9a47e",
   "metadata": {},
   "outputs": [],
   "source": [
    "plt.figure(figsize=(10, 5))\n",
    "\n",
    "for i in range(num_simulations): \n",
    "    plt.plot(simulated_incomes[i], alpha=0.5)\n",
    "\n",
    "plt.title(\"Simulerte inntektsbaner over tid\")\n",
    "plt.xlabel(\"År\")\n",
    "plt.ylabel(\"Inntekt (MNOK)\")\n",
    "plt.show()"
   ]
  },
  {
   "cell_type": "markdown",
   "id": "95e8e826-78e1-4335-bb5e-91c522514c68",
   "metadata": {},
   "source": [
    "# Installasjon av  Python, git og Jupyter"
   ]
  },
  {
   "cell_type": "markdown",
   "id": "64f73db0-7a43-4e5f-a2c0-8feda191211f",
   "metadata": {
    "tags": []
   },
   "source": [
    "# Installere Python-pakker"
   ]
  },
  {
   "cell_type": "markdown",
   "id": "0ae4c045-a0b1-4966-8136-81ce0b49c930",
   "metadata": {},
   "source": [
    "Om du har installert Python riktig for alle brukere med admnistratorrettigheter, er det utrolig enkelt å installere \"pakker\" for python. En pakke er et pythonprogram som du kan importere til Python. Om du for eksempel skal installere pakken `numpy`, en matematikkpakke, så skriver du på windows:\n",
    "\n",
    "```pip install numpy```\n",
    "\n",
    "På mac må du normalt skrive\n",
    "\n",
    "```pip3 install numpy```\n",
    "\n",
    "Dermed er pakken installert!"
   ]
  },
  {
   "cell_type": "markdown",
   "id": "9b60ebd7",
   "metadata": {},
   "source": [
    "# **Hva om du ikke vil kjøre Python lokalt?**\n",
    "##### Vi har nå gjennomgått hvordan vi kan bruke Python lokalt på PC/Mac. Dette er fint for fagansvarlige, og studenter - da det gir masse fleksibilitet.\n",
    "\n",
    "##### Hvis du ønsker å bruke noe annet, har du selvsagt rett til det. Men vit at studentene våre får introdusert Python i første semester, da gjennom Visual Studio Code og er noe de allerede kjenner til. Så nedlastningsguru'ere skal dere ikke være, men dette internkurset skal gjøre dere kompetente nok til å gjennomføre dette selv. \n",
    "\n",
    "### Andre enkle løsninger er:\n",
    "#### [Google Colab](https://colab.research.google.com/): Skybasert løsning dere var borte i på samling 1. Veldig fint, pålitetlig og enkelt.\n",
    "#### [Jupyter UiT](https://jupyter.uit.no): UiT sin nettløsning av Jupyter. Kan være fint om dere bare skal vise *småting* i ett kurs. Men, vit at (av erfaring), er denne serveren tidvis nede... Noe som er litt kjipt hvis du står der i forelesningssalen."
   ]
  },
  {
   "cell_type": "markdown",
   "id": "e0347434",
   "metadata": {},
   "source": [
    "# **Nå kan dere fly - lykke til!**"
   ]
  },
  {
   "cell_type": "markdown",
   "id": "ec60080d",
   "metadata": {},
   "source": [
    "____"
   ]
  }
 ],
 "metadata": {
  "kernelspec": {
   "display_name": "myenv",
   "language": "python",
   "name": "python3"
  },
  "language_info": {
   "codemirror_mode": {
    "name": "ipython",
    "version": 3
   },
   "file_extension": ".py",
   "mimetype": "text/x-python",
   "name": "python",
   "nbconvert_exporter": "python",
   "pygments_lexer": "ipython3",
   "version": "3.12.2"
  }
 },
 "nbformat": 4,
 "nbformat_minor": 5
}
