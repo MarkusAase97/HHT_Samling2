{
 "cells": [
  {
   "cell_type": "markdown",
   "id": "074ebde0-2d56-4157-83a4-9d57f74a6fa8",
   "metadata": {
    "jp-MarkdownHeadingCollapsed": true,
    "tags": []
   },
   "source": [
    "<span style=\"color:#9bb1d4;font-size:30px;font-weight:900\"> HHT internopplæring - Hvordan kjøre Python lokalt </span>  "
   ]
  },
  {
   "cell_type": "markdown",
   "id": "0a95f297-3dc7-4b0c-9938-7010709c8e80",
   "metadata": {},
   "source": [
    "# Github - til å dele data\n",
    "\n",
    "Dere er alle undervisere på Handelshøgskolen, hvor vi skal ta i bruk Python over hele linja. Det er vi den første Handelshøgskolen som gjør, og det krever kompetanse hos **dere**! \n",
    "\n",
    "GitHub er et nettsted og tjeneste som primært sett brukes av utviklere. Vi kommer til å gå igjennom hvordan vi kan bruke det litt enklere, og som et ekstremt godt verktøy for deling av informasjon med studenter."
   ]
  },
  {
   "cell_type": "markdown",
   "id": "4e7c9b7c",
   "metadata": {},
   "source": [
    "# Git - henting av data\n",
    "Vi har akkurat diskutert GitHub, og da må vi også diskutere **git**. Det kan vi bruke til å hente masse data ved hjelp av terminalen/kommandovinduet. Dette er ikke obligatorisk å bruke i undervisning, men vi velger å vise det - da det er et nyttig verktøy."
   ]
  },
  {
   "cell_type": "markdown",
   "id": "cfca0e16-b806-4c0a-bafd-d54ee52300d7",
   "metadata": {},
   "source": [
    "## Lage en ny undermappe:"
   ]
  },
  {
   "cell_type": "markdown",
   "id": "deb15fab-cd45-4af9-9920-d22585b25dbe",
   "metadata": {},
   "source": [
    "```mkdir minmappe```"
   ]
  },
  {
   "cell_type": "markdown",
   "id": "4a25204a-7319-40a8-823b-f95e803d5572",
   "metadata": {},
   "source": [
    "Der `minmappe` er navnet på mappen du lager"
   ]
  },
  {
   "cell_type": "markdown",
   "id": "ed7e20fe-9566-4617-a384-c2bd99f837d4",
   "metadata": {},
   "source": [
    "## Gå inn i undermappe:"
   ]
  },
  {
   "cell_type": "markdown",
   "id": "e533a58f-6c06-4fac-97b6-4789b255efa7",
   "metadata": {},
   "source": [
    "`cd minmappe`"
   ]
  },
  {
   "cell_type": "markdown",
   "id": "7c3206fc-4683-4955-9912-dd8f969fbeca",
   "metadata": {},
   "source": [
    "Du vil nå se at teksten foran innsetningspunktet skifter til"
   ]
  },
  {
   "cell_type": "markdown",
   "id": "78af6da6-4641-4858-9739-21f921aebdc9",
   "metadata": {},
   "source": [
    "`[<brukernavn>@ad.uit.no@jupyt03 minmappe]$`"
   ]
  },
  {
   "cell_type": "markdown",
   "id": "2e2130e7-cd42-4ab4-a3f0-0dc215b2adb9",
   "metadata": {},
   "source": [
    "`~` har altså skiftet til `minmappe` fordi du nå er i mappen \"minmappe\"."
   ]
  },
  {
   "cell_type": "markdown",
   "id": "64d2f489-ccb3-4ca4-8396-93548e8e45ae",
   "metadata": {},
   "source": [
    "## Gå opp fra undermappe"
   ]
  },
  {
   "cell_type": "markdown",
   "id": "7903a5a0-ac00-4240-b5ab-63fdec512809",
   "metadata": {},
   "source": [
    "Du kan gå opp fra undermappen ved å skrive"
   ]
  },
  {
   "cell_type": "markdown",
   "id": "3aec2eec-7ed6-410d-b72e-c67b282fc580",
   "metadata": {},
   "source": [
    "`cd .. `"
   ]
  },
  {
   "cell_type": "markdown",
   "id": "bef8126e-7d18-4c1d-9170-7231209ccbe2",
   "metadata": {},
   "source": [
    "Teksten foran innsetningspunktet skifter da tilbake til symbolet for rotmappen: \n",
    "\n",
    "`[<brukernavn>@ad.uit.no@jupyt03 ~]$`"
   ]
  },
  {
   "cell_type": "markdown",
   "id": "c62d2fa1-80da-4d0e-8c4a-e5db7c39a37e",
   "metadata": {},
   "source": [
    "## Se innhold"
   ]
  },
  {
   "cell_type": "markdown",
   "id": "ff4d42d0-5134-4d46-b3d6-9d1f1b6d35f2",
   "metadata": {},
   "source": [
    "Du kan se innholdet av mappen du er i, ved å skrive\n",
    "\n",
    "**Windows**:\n",
    "\n",
    "`dir`\n",
    "\n",
    "**Mac**:\n",
    "\n",
    "`ls`"
   ]
  },
  {
   "cell_type": "markdown",
   "id": "eab00291-3da9-4737-aaf9-7aad3ebe9544",
   "metadata": {},
   "source": [
    "## Slette undermappe"
   ]
  },
  {
   "cell_type": "markdown",
   "id": "bbc5c7d1-655b-48d4-8f8b-a0e1b6d93c57",
   "metadata": {},
   "source": [
    "For å slette undermappen minmappe skriver du"
   ]
  },
  {
   "cell_type": "markdown",
   "id": "b40728e4-d986-4f38-8e5f-f8a5ec970121",
   "metadata": {},
   "source": [
    "        rmdir minmappe"
   ]
  },
  {
   "cell_type": "markdown",
   "id": "4ba0c508-126c-454c-8e37-e5ae5f27f0c8",
   "metadata": {},
   "source": [
    "Bruk aldri denne uten at du er sikker på hva du gjør. Mappen kan ikke gjenopprettes etter at den er slettet."
   ]
  },
  {
   "cell_type": "markdown",
   "id": "8e5a4f29-1077-4c24-a3f3-58333bae8c5d",
   "metadata": {},
   "source": [
    "# Fjerne en mappe og alt dets innhold (FARLIG!)\n",
    "\n",
    "Dersom en mappe har innhold som er vanskelig å fjerne, slik som et git-repositorie, kan det være du må da kjøre en kommando i Terminal for å fjerne mappen. Du må da kjøre en kommando i Terminal for å fjerne mappen. For å fjerne en mappe og alt innholdet, navigerer du til mappen over (se 3.), slik at om du kjører `dir` så ser du navnet på mappen (samme med eventuelt andre filer og mapper). Du kjører så\n",
    "```\n",
    "rm -r <navn på mappe du vil ha fjernet>\n",
    "```\n",
    "Bytt ut ´<navn på mappe du vil ha fjernet>´ med mappen du vil slette. \n",
    "\n",
    "MERK at dette sletter mappen FOR EVIG OG ALLTID! Den kan ikke gjenoprettes, så VÆR HELT SIKKER før du gjør dette. Du må være HELT sikker på hvor du er i mappestrukturen i terminal, slik at du ikke sletter noe uforvarende. \n",
    "\n",
    "Når du har kjørt kommandoen, vil du få gjentatte spørsmål om du vil slette hver enkelt fil. Trykk `y` og Enter på hvert spørsmål. "
   ]
  },
  {
   "cell_type": "markdown",
   "id": "f201471d-feba-479b-9476-4def60d81815",
   "metadata": {
    "tags": []
   },
   "source": [
    "# Hvordan hente data, og hvordan dele data med studenter\n",
    "Vi som er her i dag, jobber med mange ulike ting på Handelshøgskolen. Felles for de aller fleste økonomer, er at man må jobbe med data på et eller annet vis. Det kan være lagret i databaser, som f.eks. en del av SSB sin data, eller at det rett og slett er Excel filer (`.csv` eller `.xlsx`)."
   ]
  },
  {
   "cell_type": "markdown",
   "id": "ac373348-ae07-471c-8931-43dff6ffb3d6",
   "metadata": {
    "tags": []
   },
   "source": [
    "## Klone dette repositoriet: \n",
    "```\n",
    "git clone https://github.com/MarkusAase97/HHT_Samling2\n",
    "```    \n",
    " "
   ]
  },
  {
   "cell_type": "markdown",
   "id": "9b730e69",
   "metadata": {},
   "source": [
    "# Oppgaver\n",
    "\n",
    "## Oppgave 1 - Lag ditt eget repositorie\n",
    "Lag ditt eget repositorie på [GitHub](https://github.com/), og last opp noen Excel-filer du bruker i et kurs.\n",
    "\n",
    "Gå så til terminal, og hent filene derfra ved hjelp av det vi har gjennomgått over.\n",
    "\n",
    "## Oppgave 2\n",
    "Last så inn en av Excel-filene ved hjelp av `pandas` - slik vi gjorde før lunsj."
   ]
  },
  {
   "cell_type": "markdown",
   "id": "a78c6101",
   "metadata": {},
   "source": [
    "## Oppgave 3\n",
    "Vi kan faktisk lese filer direkte fra et GitHub repositorie, uten å laste ned. Prøv å gjøre følgende:\n",
    "\n",
    "1. Hvis filen din på GitHub ligger f.eks. her: `https://github.com/MarkusAase97/HHT_Samling2/blob/main/data/bilparken_ssb.csv`\n",
    "2. Erstatt `https://github.com/` med `https://raw.githubusercontent.com/` og fjern `blob` fra lenka.\n",
    "3. Da bør det se slik ut: `https://raw.githubusercontent.com/MarkusAase97/HHT_Samling2/main/data/bilparken_ssb.csv`\n",
    "4. Så kan du prøve å kjøre: \n",
    "\n",
    "```python\n",
    "import pandas as pd\n",
    "\n",
    "url = \"https://raw.githubusercontent.com/MarkusAase97/HHT_Samling2/main/data/bilparken_ssb.csv\"\n",
    "df = pd.read_csv(url)\n",
    "\n",
    "df.head()\n",
    "```\n",
    "\n",
    "## Oppgave 4\n",
    "Fullfør oppgavene fra før lunsj."
   ]
  },
  {
   "cell_type": "markdown",
   "id": "4946cf15",
   "metadata": {},
   "source": [
    "___"
   ]
  },
  {
   "cell_type": "markdown",
   "id": "1b086dcd",
   "metadata": {},
   "source": [
    "# **Lag deres egen kursside**\n",
    "Jeg har personlig i noen av mine kurs lagd egne hjemmesider med GitHub, som jeg *embedder* på Canvas. Her er to eksempler:\n",
    "\n",
    "* SOK-3023 - *Maskinlæring for økonomer*: https://uit-sok-3023-v25.github.io/ \n",
    "* BED-1304 - *Python-lab (Tromsø-versjon)*: https://uit-bed-1304-h25.github.io/ \n",
    "\n",
    "Det fine med en slik løsning er at jeg selv kan strukturere hvordan jeg vil dele filer. Likevel krever dette litt ekstra av foreleser, men får mange gode tilbakemeldinger på dette. Dette er totalt valgfritt, og vises bare her som eksempler."
   ]
  },
  {
   "cell_type": "markdown",
   "id": "2304a104",
   "metadata": {},
   "source": [
    "### Lenke til oppskrift for å lage egen kursside finner dere [her](https://uit-econ.github.io/coursepage_template/readme_no.html)"
   ]
  },
  {
   "cell_type": "markdown",
   "id": "e4bc99b4",
   "metadata": {},
   "source": [
    "___"
   ]
  },
  {
   "cell_type": "markdown",
   "id": "ab125259",
   "metadata": {},
   "source": [
    "# **Under er litt ekstra informasjon om bruk av Git**\n",
    "De fleste av dere vil ikke trenge informasjonen under, men jeg legger den ved for den interesserte."
   ]
  },
  {
   "cell_type": "markdown",
   "id": "6fc27ce5-eb6c-4fcd-bfa9-25e71320b2e5",
   "metadata": {},
   "source": [
    "## Hvordan sørge for at du alltid har siste versjon?"
   ]
  },
  {
   "cell_type": "markdown",
   "id": "02a0e96a-1089-4ea8-8543-5987ce1c82dd",
   "metadata": {},
   "source": [
    "Det kan å bli endringer i notatene undervegs, så det vil bli behov for å laste ned fra `github` på nytt. Om du har gjort notater i eksisterende notatbok, og du ønsker å beholde dem, gir du denne mappen et annet navn enn `notebooks`, og kloner en ny versjon av `notebooks`repositoriet slik som beskrevet lenger oppe.\n",
    "\n",
    "For å oppdatere repositoriet til siste versjon gjør du \n",
    "\n",
    "```\n",
    "[user@jupty02 notebooks]$ git pull\n",
    "```\n",
    "Merk at du må \"være\" i mappen `notebooks` i kommandovinduet (`notebooks`skal vises til venstre på linjen du skriver på). Om du nettopp har klonet må navigere inn i notebooksmappen med\n",
    "```\n",
    "[user@jupty02 notebooks]$ cd notebooks\n",
    "```\n",
    "Om du nå har gjort endringer i den samme `notbooks`-mappen som du forsøker å oppdatere, kan du får følgende melding:\n",
    "\n",
    "```Your local changes to the following files would be overwritten by merge:```\n",
    "\n",
    "For å tvinge gjennom en oppdatering kan du da gjøre følgende ( <span style=\"color:red\">MERK!!!!! alt innhold i den mappen du er i vil BLI SLETTET og ERSTATTET med innholdet i `notebooks` på github. Vær derfor HELT sikker på at du er i riktig mappe (det SKAL stå `notebooks` sist i promtet slik: `[user@jupty02 notebooks]$`)</span>):\n",
    "```\n",
    "[user@jupty02 notebooks]$ git reset --hard\n",
    "```\n",
    "Så kjører du en `git pull` igjen. Da resettes repositoriet til den versjonen som ligger på github. "
   ]
  },
  {
   "cell_type": "markdown",
   "id": "1eecba3c",
   "metadata": {},
   "source": [
    "## Hente siste versjon (pull):\n",
    "Slik hetner du siste versjon:\n",
    "```\n",
    "git pull\n",
    "```\n",
    "\n",
    "1. Om filer er endret, og du ønsker å overskrive endringene:\n",
    "```\n",
    "git reset --hard\n",
    "git pull\n",
    "```\n",
    "\n",
    "2. Om filer er endret, og du ønsker å overskrive endringene, men også ta vare på endringer.\n",
    "```\n",
    "git stash\n",
    "```  \n",
    " "
   ]
  },
  {
   "cell_type": "markdown",
   "id": "9b245899",
   "metadata": {},
   "source": [
    "## Lage git-repositorie:\n",
    "\n",
    "1. Lag en githubkonto (du trenger ikke bruke din uit-mail, det er valgfritt)\n",
    "2. Start Jupyter, og åpne ny Terminal (+), og naviger dit du vil ha repositoriet på jupyter med `cd <mappenavn>`.\n",
    "3. Konfigurer git med e-posten til kontoen og ditt brukernavn (bytt ut klammeparentesene med e-posten og brukernavnet til githubkontoen):\n",
    "```\n",
    "git config --global user.email \"<e-post>\"\n",
    "git config --global user.name \"<brukernavn>\"\n",
    "```\n",
    "4. Gå til **Repositories**, trykk **New**, gi repositoriet et navn og velg **Private** eller **Public**. \n",
    "5. Hold denne fanen åpen, for du skal bruke html-adressen til denne siden.\n",
    "6. Sørg for at du har et token. Gå eventuelt til https://github.com/settings/tokens/new for å generere nytt token. *Hold fanen åpen for å ha tokenet tilgjengelig.*\n",
    "7. kjør `git clone https://<token>@github.com/<sti>` der \\<token\\> er tokenet er det du fikk i 6. og \\<sti\\> er det som kommer etter **github.com/**  i html-adressen i 5.\n",
    "\n",
    " Du kan nå redigere repositoriet ditt<br><br>\n",
    " \n",
    "**NYTTIG TIPS!** Om du glemte å legge inn tokenet da du klonet, kan du legge det inn etterpå med denne kommandoen:<br>\n",
    "```\n",
    "git remote set-url origin https://<token>@github.com/<sti>\n",
    "```\n",
    "<br><br>\n",
    " "
   ]
  },
  {
   "cell_type": "markdown",
   "id": "ed037307",
   "metadata": {},
   "source": [
    "## Dytte repositoriet til github:\n",
    "1. Ta en sikkerhetskopi av filene dine (egentlig ikke nødvendig om man kan git, men det er en enkel måte å unngå problemer)\n",
    "2. Naviger til repositoriemappen i Terminal (se avsnitt 1.)\n",
    "3. Kjør i Terminal:\n",
    "```\n",
    "git pull\n",
    "git add .\n",
    "git commit -m \"New repository\"\n",
    "git push \n",
    "```\n",
    "\n",
    "Dersom du får en rettighetsfeil kan du forsøke å legge inn, etter `git push`, nettadressen som beskrevet over. \n",
    "      \n",
    "      \n",
    " \n",
    " "
   ]
  }
 ],
 "metadata": {
  "kernelspec": {
   "display_name": "myenv",
   "language": "python",
   "name": "python3"
  },
  "language_info": {
   "codemirror_mode": {
    "name": "ipython",
    "version": 3
   },
   "file_extension": ".py",
   "mimetype": "text/x-python",
   "name": "python",
   "nbconvert_exporter": "python",
   "pygments_lexer": "ipython3",
   "version": "3.12.2"
  }
 },
 "nbformat": 4,
 "nbformat_minor": 5
}
